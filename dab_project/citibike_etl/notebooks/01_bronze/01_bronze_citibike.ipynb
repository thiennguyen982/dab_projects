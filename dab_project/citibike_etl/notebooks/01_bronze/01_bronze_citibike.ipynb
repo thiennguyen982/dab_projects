{
 "cells": [
  {
   "cell_type": "code",
   "execution_count": 10,
   "metadata": {},
   "outputs": [],
   "source": [
    "from pyspark.sql.types import (\n",
    "    StructType,\n",
    "    StructField,\n",
    "    StringType,\n",
    "    DecimalType,\n",
    "    TimestampType,\n",
    ")\n",
    "from pyspark.sql.functions import create_map, lit\n",
    "from databricks.connect import DatabricksSession"
   ]
  },
  {
   "cell_type": "code",
   "execution_count": 1,
   "metadata": {},
   "outputs": [
    {
     "ename": "NameError",
     "evalue": "name 'dbutils' is not defined",
     "output_type": "error",
     "traceback": [
      "\u001b[31m---------------------------------------------------------------------------\u001b[39m",
      "\u001b[31mNameError\u001b[39m                                 Traceback (most recent call last)",
      "\u001b[36mCell\u001b[39m\u001b[36m \u001b[39m\u001b[32mIn[1]\u001b[39m\u001b[32m, line 1\u001b[39m\n\u001b[32m----> \u001b[39m\u001b[32m1\u001b[39m pipeline_id = \u001b[43mdbutils\u001b[49m.wigets.get(\u001b[33m\"\u001b[39m\u001b[33mpipeline_id\u001b[39m\u001b[33m\"\u001b[39m)\n",
      "\u001b[31mNameError\u001b[39m: name 'dbutils' is not defined"
     ]
    }
   ],
   "source": [
    "pipeline_id = dbutils.widgets.get(\"pipeline_id\")\n",
    "run_id = dbutils.widgets.get(\"run_id\")\n",
    "task_id = dbutils.widgets.get(\"task_id\")\n",
    "processed_timestamp = dbutils.widgets.get(\"processed_timestamp\")\n",
    "catalog = dbutils.widgets.get(\"catalog\")"
   ]
  },
  {
   "cell_type": "code",
   "execution_count": 11,
   "metadata": {},
   "outputs": [],
   "source": [
    "schema = StructType(\n",
    "    [\n",
    "        StructField(\"ride_id\", StringType(), True),\n",
    "        StructField(\"rideable_type\", StringType(), True),\n",
    "        StructField(\"started_at\", TimestampType(), True),\n",
    "        StructField(\"ended_At\", TimestampType(), True),\n",
    "        StructField(\"start_station_name\", StringType(), True),\n",
    "        StructField(\"start_station_id\", StringType(), True),\n",
    "        StructField(\"end_station_name\", StringType(), True),\n",
    "        StructField(\"end_station_id\", StringType(), True),\n",
    "        StructField(\"start_lat\", DecimalType(), True),\n",
    "        StructField(\"start_lng\", DecimalType(), True),\n",
    "        StructField(\"end_lat\", DecimalType(), True),\n",
    "        StructField(\"end_lng\", DecimalType(), True),\n",
    "        StructField(\"member_casual\", StringType(), True),\n",
    "    ]\n",
    ")"
   ]
  },
  {
   "cell_type": "code",
   "execution_count": 12,
   "metadata": {},
   "outputs": [],
   "source": [
    "spark = DatabricksSession.builder.getOrCreate()"
   ]
  },
  {
   "cell_type": "code",
   "execution_count": 13,
   "metadata": {},
   "outputs": [],
   "source": [
    "df = spark.read.csv(f\"/Volumes/{catalog}/landing/source_citibike_data\", header=True)"
   ]
  },
  {
   "cell_type": "code",
   "execution_count": 14,
   "metadata": {},
   "outputs": [],
   "source": [
    "df = df.withColumn(\n",
    "    \"metadata\",\n",
    "    create_map(\n",
    "        lit(\"pipeline_id\"),\n",
    "        lit(pipeline_id),\n",
    "        lit(\"run_id\"),\n",
    "        lit(run_id),\n",
    "        lit(\"task_id\"),\n",
    "        lit(task_id),\n",
    "        lit(\"processed_timestamp\"),\n",
    "        lit(processed_timestamp),\n",
    "    ),\n",
    ")"
   ]
  },
  {
   "cell_type": "code",
   "execution_count": 15,
   "metadata": {},
   "outputs": [
    {
     "name": "stdout",
     "output_type": "stream",
     "text": [
      "+----------------+-------------+--------------------+--------------------+------------------+----------------+--------------------+--------------+------------------+------------------+------------------+------------------+-------------+--------------------+\n",
      "|         ride_id|rideable_type|          started_at|            ended_at|start_station_name|start_station_id|    end_station_name|end_station_id|         start_lat|         start_lng|           end_lat|           end_lng|member_casual|            metadata|\n",
      "+----------------+-------------+--------------------+--------------------+------------------+----------------+--------------------+--------------+------------------+------------------+------------------+------------------+-------------+--------------------+\n",
      "|29DAF43DD84B4B7A|electric_bike|2025-03-20 18:58:...|2025-03-20 19:00:...|   6 St & Grand St|           HB302|Mama Johnson Fiel...|         HB404|40.744397833095604|-74.03450086712837| 40.74313993965626|-74.04004096984863|       member|{pipeline_id -> p...|\n",
      "|B11B4220F7195025|electric_bike|2025-03-29 11:01:...|2025-03-29 11:11:...|  Heights Elevator|           JC059|        Jersey & 3rd|         JC074|40.748715945380226|-74.04044330120087| 40.72333158646436|-74.04595255851744|       member|{pipeline_id -> p...|\n",
      "|18D5B30305F602B9|electric_bike|2025-03-01 16:05:...|2025-03-01 16:07:...|      Jersey & 3rd|           JC074|       Hamilton Park|         JC009| 40.72333158646436|-74.04595255851744|      40.727595966|     -74.044247311|       member|{pipeline_id -> p...|\n",
      "|532EB2D9DB68567D|electric_bike|2025-03-21 18:44:...|2025-03-21 18:51:...|      Jersey & 3rd|           JC074|     Jersey & 6th St|         JC027| 40.72333158646436|-74.04595255851744| 40.72528910781132|-74.04557168483734|       member|{pipeline_id -> p...|\n",
      "|EA7C9C945D7D57AA|electric_bike|2025-03-20 11:08:...|2025-03-20 11:12:...|   6 St & Grand St|           HB302|   Madison St & 1 St|         HB402|40.744397833095604|-74.03450086712837|          40.73879|          -74.0393|       member|{pipeline_id -> p...|\n",
      "|DA232FF47222E86C| classic_bike|2025-03-13 11:11:...|2025-03-13 11:15:...|   6 St & Grand St|           HB302|   Madison St & 1 St|         HB402|40.744397833095604|-74.03450086712837|          40.73879|          -74.0393|       member|{pipeline_id -> p...|\n",
      "|416547516DE5132F|electric_bike|2025-03-28 21:51:...|2025-03-28 21:57:...|           Hilltop|           JC019| Leonard Gordon Park|         JC080|        40.7311689|       -74.0575736| 40.74590996631558| -74.0572714805603|       member|{pipeline_id -> p...|\n",
      "|E25EDA33910F90F0|electric_bike|2025-03-13 18:21:...|2025-03-13 18:26:...|           Hilltop|           JC019| Leonard Gordon Park|         JC080|        40.7311689|       -74.0575736| 40.74590996631558| -74.0572714805603|       member|{pipeline_id -> p...|\n",
      "|D209FF2521E26D16| classic_bike|2025-03-01 14:59:...|2025-03-01 15:06:...|    Jackson Square|           JC063|          Bergen Ave|         JC095|          40.71113|          -74.0789|40.722103786686034|-74.07145500183105|       member|{pipeline_id -> p...|\n",
      "|BC9F0D06A5AFF751|electric_bike|2025-03-04 09:55:...|2025-03-04 09:59:...|   6 St & Grand St|           HB302|Southwest Park - ...|         HB401|40.744397833095604|-74.03450086712837| 40.73755127245804|-74.04166370630264|       member|{pipeline_id -> p...|\n",
      "|7DD3A6B5272F27F5|electric_bike|2025-03-05 07:46:...|2025-03-05 07:51:...|   6 St & Grand St|           HB302|Southwest Park - ...|         HB401|40.744397833095604|-74.03450086712837| 40.73755127245804|-74.04166370630264|       member|{pipeline_id -> p...|\n",
      "|EBC8115E0E51D260|electric_bike|2025-03-22 10:44:...|2025-03-22 10:47:...|   6 St & Grand St|           HB302|Clinton St & Newa...|         HB409|40.744397833095604|-74.03450086712837|          40.73743|         -74.03571|       member|{pipeline_id -> p...|\n",
      "|8E81A7E630ACC8A3|electric_bike|2025-03-20 18:46:...|2025-03-20 18:52:...|   Christ Hospital|           JC034|    Heights Elevator|         JC059|      40.734785818|     -74.050443636|40.748715945380226|-74.04044330120087|       casual|{pipeline_id -> p...|\n",
      "|C3C27AC1CE0191D8|electric_bike|2025-03-28 12:45:...|2025-03-28 12:50:...|           Hilltop|           JC019|     Christ Hospital|         JC034|        40.7311689|       -74.0575736|      40.734785818|     -74.050443636|       casual|{pipeline_id -> p...|\n",
      "|31A0007D2C09136A|electric_bike|2025-03-03 16:29:...|2025-03-03 16:38:...|    Columbus Drive|           JC014|Baldwin at Montgo...|         JC020| 40.71835519823214|-74.03891444206238|        40.7236589|       -74.0641943|       casual|{pipeline_id -> p...|\n",
      "|696F0B0FACBB2EB1|electric_bike|2025-03-14 08:04:...|2025-03-14 08:11:...|   Christ Hospital|           JC034|      Journal Square|         JC103|      40.734785818|     -74.050443636|          40.73367|          -74.0625|       member|{pipeline_id -> p...|\n",
      "|2F9A9DFC0B5FDC8B|electric_bike|2025-03-04 08:10:...|2025-03-04 08:17:...|   Christ Hospital|           JC034|      Journal Square|         JC103|      40.734785818|     -74.050443636|          40.73367|          -74.0625|       member|{pipeline_id -> p...|\n",
      "|6CDBFDD599F49010| classic_bike|2025-03-01 15:27:...|2025-03-01 15:41:...|   Christ Hospital|           JC034|      Journal Square|         JC103|      40.734785818|     -74.050443636|          40.73367|          -74.0625|       member|{pipeline_id -> p...|\n",
      "|40C1173521E0136C|electric_bike|2025-03-12 21:22:...|2025-03-12 21:30:...|    Jackson Square|           JC063|Bergen Ave & Sip Ave|         JC109|          40.71113|          -74.0789| 40.73100888698729|-74.06443700194359|       member|{pipeline_id -> p...|\n",
      "|BEFCB12738E44387|electric_bike|2025-03-26 14:03:...|2025-03-26 14:10:...|    Jackson Square|           JC063|        Glenwood Ave|         JC094|          40.71113|          -74.0789| 40.72755146730012|-74.07106071710587|       member|{pipeline_id -> p...|\n",
      "+----------------+-------------+--------------------+--------------------+------------------+----------------+--------------------+--------------+------------------+------------------+------------------+------------------+-------------+--------------------+\n",
      "only showing top 20 rows\n"
     ]
    }
   ],
   "source": [
    "df.show()"
   ]
  },
  {
   "cell_type": "code",
   "execution_count": 17,
   "metadata": {},
   "outputs": [],
   "source": [
    "df.write.mode(\"overwrite\").option(\"overwriteSchema\", \"true\").saveAsTable(\n",
    "    f\"{catalog}.bronze.jc_citibike\"\n",
    ")"
   ]
  }
 ],
 "metadata": {
  "kernelspec": {
   "display_name": "databricks",
   "language": "python",
   "name": "python3"
  },
  "language_info": {
   "codemirror_mode": {
    "name": "ipython",
    "version": 3
   },
   "file_extension": ".py",
   "mimetype": "text/x-python",
   "name": "python",
   "nbconvert_exporter": "python",
   "pygments_lexer": "ipython3",
   "version": "3.12.3"
  },
  "orig_nbformat": 4
 },
 "nbformat": 4,
 "nbformat_minor": 2
}
