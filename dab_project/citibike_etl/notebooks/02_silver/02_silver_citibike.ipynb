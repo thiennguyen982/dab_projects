{
 "cells": [
  {
   "cell_type": "code",
   "execution_count": 2,
   "metadata": {},
   "outputs": [
    {
     "name": "stdout",
     "output_type": "stream",
     "text": [
      "['c:\\\\Users\\\\DELL\\\\Desktop\\\\databricks\\\\dab_project', 'C:\\\\Users\\\\DELL\\\\Desktop\\\\databricks\\\\dab_project', 'c:\\\\Users\\\\DELL\\\\Desktop\\\\databricks\\\\dab_project\\\\citibike_etl\\\\notebooks\\\\02_silver', 'C:\\\\Users\\\\DELL\\\\AppData\\\\Local\\\\Programs\\\\Python\\\\Python312\\\\python312.zip', 'C:\\\\Users\\\\DELL\\\\AppData\\\\Local\\\\Programs\\\\Python\\\\Python312\\\\DLLs', 'C:\\\\Users\\\\DELL\\\\AppData\\\\Local\\\\Programs\\\\Python\\\\Python312\\\\Lib', 'C:\\\\Users\\\\DELL\\\\AppData\\\\Local\\\\Programs\\\\Python\\\\Python312', 'c:\\\\Users\\\\DELL\\\\Desktop\\\\databricks\\\\databricks', '', 'c:\\\\Users\\\\DELL\\\\Desktop\\\\databricks\\\\databricks\\\\Lib\\\\site-packages', 'c:\\\\Users\\\\DELL\\\\Desktop\\\\databricks\\\\databricks\\\\Lib\\\\site-packages\\\\win32', 'c:\\\\Users\\\\DELL\\\\Desktop\\\\databricks\\\\databricks\\\\Lib\\\\site-packages\\\\win32\\\\lib', 'c:\\\\Users\\\\DELL\\\\Desktop\\\\databricks\\\\databricks\\\\Lib\\\\site-packages\\\\Pythonwin', 'c:\\\\Users\\\\DELL\\\\Desktop\\\\databricks\\\\databricks\\\\Lib\\\\site-packages\\\\setuptools\\\\_vendor']\n"
     ]
    }
   ],
   "source": [
    "from pathlib import Path\n",
    "import sys\n",
    "\n",
    "# In a notebook, get current directory and go up 2 levels\n",
    "project_root = Path.cwd().parents[2]\n",
    "\n",
    "# Add to sys.path if not already present\n",
    "if str(project_root) not in sys.path:\n",
    "    sys.path.insert(0, str(project_root))\n",
    "    \n",
    "from pyspark.sql.functions import col, lit, create_map\n",
    "from databricks.connect import DatabricksSession\n",
    "from src.citibike.citibike_utils import get_trip_duration\n",
    "from src.utils.datetime_utils import timestamp_to_date_col"
   ]
  },
  {
   "cell_type": "code",
   "execution_count": null,
   "metadata": {},
   "outputs": [],
   "source": [
    "pipeline_id = dbutils.widgets.get(\"pipeline_id\")\n",
    "run_id = dbutils.widgets.get(\"run_id\")\n",
    "task_id = dbutils.widgets.get(\"task_id\")\n",
    "processed_timestamp = dbutils.widgets.get(\"processed_timestamp\")\n",
    "catalog = dbutils.widgets.get(\"catalog\")"
   ]
  },
  {
   "cell_type": "code",
   "execution_count": null,
   "metadata": {},
   "outputs": [],
   "source": [
    "spark = DatabricksSession.builder.getOrCreate()"
   ]
  },
  {
   "cell_type": "code",
   "execution_count": null,
   "metadata": {},
   "outputs": [],
   "source": [
    "df = spark.read.table(f\"{catalog}.bronze.jc_citibike\")"
   ]
  },
  {
   "cell_type": "code",
   "execution_count": null,
   "metadata": {},
   "outputs": [],
   "source": [
    "df = get_trip_duration(spark, df, \"started_at\", \"ended_at\", \"trip_duration_mins\")"
   ]
  },
  {
   "cell_type": "code",
   "execution_count": null,
   "metadata": {},
   "outputs": [],
   "source": [
    "df = timestamp_to_date_col(spark, df, \"started_at\", \"trip_start_date\")"
   ]
  },
  {
   "cell_type": "code",
   "execution_count": null,
   "metadata": {},
   "outputs": [],
   "source": [
    "df = df.withColumn(\"metadata\",\n",
    "                   create_map(\n",
    "                       lit(\"pipeline_id\"), lit(pipeline_id),\n",
    "                       lit(\"run_id\"), lit(run_id),\n",
    "                       lit(\"task_id\"), lit(task_id), \n",
    "                       lit(\"processed_timestamp\"), lit(processed_timestamp)\n",
    "                   ))"
   ]
  },
  {
   "cell_type": "code",
   "execution_count": null,
   "metadata": {},
   "outputs": [],
   "source": [
    "df = df.select(\n",
    "    \"ride_id\",\n",
    "    \"trip_start_date\",\n",
    "    \"started_at\",\n",
    "    \"ended_at\",\n",
    "    \"start_station_name\",\n",
    "    \"end_station_name\",\n",
    "    \"trip_duration_mins\",\n",
    "    \"metadata\"\n",
    ")"
   ]
  },
  {
   "cell_type": "code",
   "execution_count": null,
   "metadata": {},
   "outputs": [],
   "source": [
    "df.write.mode(\"overwrite\").option(\"overwriteSchema\", \"true\").saveAsTable(f\"{catalog}.silver.jc_citibike\")"
   ]
  }
 ],
 "metadata": {
  "kernelspec": {
   "display_name": "databricks",
   "language": "python",
   "name": "python3"
  },
  "language_info": {
   "codemirror_mode": {
    "name": "ipython",
    "version": 3
   },
   "file_extension": ".py",
   "mimetype": "text/x-python",
   "name": "python",
   "nbconvert_exporter": "python",
   "pygments_lexer": "ipython3",
   "version": "3.12.3"
  },
  "orig_nbformat": 4
 },
 "nbformat": 4,
 "nbformat_minor": 2
}
