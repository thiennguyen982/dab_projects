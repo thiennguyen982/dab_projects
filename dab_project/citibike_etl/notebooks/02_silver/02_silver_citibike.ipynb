{
 "cells": [
  {
   "cell_type": "code",
   "execution_count": 2,
   "metadata": {},
   "outputs": [],
   "source": [
    "from pyspark.sql.functions import lit, create_map\n",
    "from databricks.connect import DatabricksSession\n",
    "from citibike.citibike_utils import get_trip_duration\n",
    "from utils.datetime_utils import timestamp_to_date_col"
   ]
  },
  {
   "cell_type": "code",
   "execution_count": null,
   "metadata": {},
   "outputs": [],
   "source": [
    "pipeline_id = dbutils.widgets.get(\"pipeline_id\")\n",
    "run_id = dbutils.widgets.get(\"run_id\")\n",
    "task_id = dbutils.widgets.get(\"task_id\")\n",
    "processed_timestamp = dbutils.widgets.get(\"processed_timestamp\")\n",
    "catalog = dbutils.widgets.get(\"catalog\")"
   ]
  },
  {
   "cell_type": "code",
   "execution_count": null,
   "metadata": {},
   "outputs": [],
   "source": [
    "spark = DatabricksSession.builder.getOrCreate()"
   ]
  },
  {
   "cell_type": "code",
   "execution_count": null,
   "metadata": {},
   "outputs": [],
   "source": [
    "df = spark.read.table(f\"{catalog}.bronze.jc_citibike\")"
   ]
  },
  {
   "cell_type": "code",
   "execution_count": null,
   "metadata": {},
   "outputs": [],
   "source": [
    "df = get_trip_duration(spark, df, \"started_at\", \"ended_at\", \"trip_duration_mins\")"
   ]
  },
  {
   "cell_type": "code",
   "execution_count": null,
   "metadata": {},
   "outputs": [],
   "source": [
    "df = timestamp_to_date_col(spark, df, \"started_at\", \"trip_start_date\")"
   ]
  },
  {
   "cell_type": "code",
   "execution_count": null,
   "metadata": {},
   "outputs": [],
   "source": [
    "df = df.withColumn(\n",
    "    \"metadata\",\n",
    "    create_map(\n",
    "        lit(\"pipeline_id\"),\n",
    "        lit(pipeline_id),\n",
    "        lit(\"run_id\"),\n",
    "        lit(run_id),\n",
    "        lit(\"task_id\"),\n",
    "        lit(task_id),\n",
    "        lit(\"processed_timestamp\"),\n",
    "        lit(processed_timestamp),\n",
    "    ),\n",
    ")"
   ]
  },
  {
   "cell_type": "code",
   "execution_count": null,
   "metadata": {},
   "outputs": [],
   "source": [
    "df = df.select(\n",
    "    \"ride_id\",\n",
    "    \"trip_start_date\",\n",
    "    \"started_at\",\n",
    "    \"ended_at\",\n",
    "    \"start_station_name\",\n",
    "    \"end_station_name\",\n",
    "    \"trip_duration_mins\",\n",
    "    \"metadata\",\n",
    ")"
   ]
  },
  {
   "cell_type": "code",
   "execution_count": null,
   "metadata": {},
   "outputs": [],
   "source": [
    "df.write.mode(\"overwrite\").option(\"overwriteSchema\", \"true\").saveAsTable(\n",
    "    f\"{catalog}.silver.jc_citibike\"\n",
    ")"
   ]
  }
 ],
 "metadata": {
  "kernelspec": {
   "display_name": "databricks",
   "language": "python",
   "name": "python3"
  },
  "language_info": {
   "codemirror_mode": {
    "name": "ipython",
    "version": 3
   },
   "file_extension": ".py",
   "mimetype": "text/x-python",
   "name": "python",
   "nbconvert_exporter": "python",
   "pygments_lexer": "ipython3",
   "version": "3.12.3"
  },
  "orig_nbformat": 4
 },
 "nbformat": 4,
 "nbformat_minor": 2
}
