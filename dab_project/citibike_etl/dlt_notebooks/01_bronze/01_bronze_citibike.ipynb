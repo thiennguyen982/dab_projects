{
 "cells": [
  {
   "cell_type": "code",
   "execution_count": 10,
   "metadata": {},
   "outputs": [],
   "source": [
    "from pyspark.sql.types import (\n",
    "    StructType,\n",
    "    StructField,\n",
    "    StringType,\n",
    "    DecimalType,\n",
    "    TimestampType,\n",
    ")\n",
    "from pyspark.sql.functions import create_map, lit\n",
    "from databricks.connect import DatabricksSession\n",
    "import dlt"
   ]
  },
  {
   "cell_type": "code",
   "execution_count": 11,
   "metadata": {},
   "outputs": [],
   "source": [
    "schema = StructType(\n",
    "    [\n",
    "        StructField(\"ride_id\", StringType(), True),\n",
    "        StructField(\"rideable_type\", StringType(), True),\n",
    "        StructField(\"started_at\", TimestampType(), True),\n",
    "        StructField(\"ended_At\", TimestampType(), True),\n",
    "        StructField(\"start_station_name\", StringType(), True),\n",
    "        StructField(\"start_station_id\", StringType(), True),\n",
    "        StructField(\"end_station_name\", StringType(), True),\n",
    "        StructField(\"end_station_id\", StringType(), True),\n",
    "        StructField(\"start_lat\", DecimalType(), True),\n",
    "        StructField(\"start_lng\", DecimalType(), True),\n",
    "        StructField(\"end_lat\", DecimalType(), True),\n",
    "        StructField(\"end_lng\", DecimalType(), True),\n",
    "        StructField(\"member_casual\", StringType(), True),\n",
    "    ]\n",
    ")"
   ]
  },
  {
   "cell_type": "code",
   "execution_count": 12,
   "metadata": {},
   "outputs": [],
   "source": [
    "spark = DatabricksSession.builder.getOrCreate()"
   ]
  },
  {
   "cell_type": "code",
   "execution_count": null,
   "metadata": {},
   "outputs": [],
   "source": [
    "catalog = spark.conf.get(\"catalog\")"
   ]
  },
  {
   "cell_type": "code",
   "execution_count": null,
   "metadata": {},
   "outputs": [],
   "source": [
    "@dlt.table(comment=\"Bronze layer: Raw citi bike data with ingest metadata\")\n",
    "def bronze_jc_citibike():\n",
    "    df = spark.read.schema(schema).csv(\n",
    "        f\"/Volumes/{catalog}/landing/source_citibike_data\", header=True\n",
    "    )\n",
    "    return df"
   ]
  }
 ],
 "metadata": {
  "kernelspec": {
   "display_name": "databricks",
   "language": "python",
   "name": "python3"
  },
  "language_info": {
   "codemirror_mode": {
    "name": "ipython",
    "version": 3
   },
   "file_extension": ".py",
   "mimetype": "text/x-python",
   "name": "python",
   "nbconvert_exporter": "python",
   "pygments_lexer": "ipython3",
   "version": "3.12.3"
  },
  "orig_nbformat": 4
 },
 "nbformat": 4,
 "nbformat_minor": 2
}
