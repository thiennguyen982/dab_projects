{
 "cells": [
  {
   "cell_type": "code",
   "execution_count": null,
   "metadata": {},
   "outputs": [],
   "source": [
    "from databricks.connect import DatabricksSession\n",
    "from pyspark.sql.functions import col, unix_timestamp, to_date\n",
    "import dlt"
   ]
  },
  {
   "cell_type": "code",
   "execution_count": null,
   "metadata": {},
   "outputs": [],
   "source": [
    "catalog = spark.conf.get(\"catalog\")"
   ]
  },
  {
   "cell_type": "code",
   "execution_count": null,
   "metadata": {},
   "outputs": [],
   "source": [
    "spark = DatabricksSession.builder.getOrCreate()"
   ]
  },
  {
   "cell_type": "code",
   "execution_count": null,
   "metadata": {},
   "outputs": [],
   "source": [
    "@dlt.table(comment=\"Silver layer: cleaned and enriched citi bike data\")\n",
    "def silver_jc_citibike():\n",
    "    df_bronze = dlt.read(\"bronze_jc_citibike\")\n",
    "\n",
    "    df_silver = (\n",
    "        df_bronze.withColumn(\n",
    "            \"trip_duration_mins\",\n",
    "            (unix_timestamp(col(\"ended_at\")) - unix_timestamp(col(\"started_at\"))) / 60,\n",
    "        )\n",
    "        .withColumn(\"trip_start_date\", to_date(col(\"started_at\")))\n",
    "        .select(\n",
    "            \"ride_id\",\n",
    "            \"trip_start_date\",\n",
    "            \"started_at\",\n",
    "            \"ended_at\",\n",
    "            \"start_station_name\",\n",
    "            \"end_station_name\",\n",
    "            \"trip_duration_mins\",\n",
    "        )\n",
    "    )\n",
    "\n",
    "    return df_silver"
   ]
  }
 ],
 "metadata": {
  "kernelspec": {
   "display_name": "databricks",
   "language": "python",
   "name": "python3"
  },
  "language_info": {
   "codemirror_mode": {
    "name": "ipython",
    "version": 3
   },
   "file_extension": ".py",
   "mimetype": "text/x-python",
   "name": "python",
   "nbconvert_exporter": "python",
   "pygments_lexer": "ipython3",
   "version": "3.12.3"
  },
  "orig_nbformat": 4
 },
 "nbformat": 4,
 "nbformat_minor": 2
}
