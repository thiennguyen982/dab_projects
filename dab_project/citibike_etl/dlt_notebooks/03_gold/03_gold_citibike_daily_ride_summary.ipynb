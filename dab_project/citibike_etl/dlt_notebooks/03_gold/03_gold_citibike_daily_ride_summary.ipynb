{
 "cells": [
  {
   "cell_type": "code",
   "execution_count": 2,
   "metadata": {},
   "outputs": [],
   "source": [
    "from pyspark.sql.functions import max, min, avg, count, round\n",
    "import dlt"
   ]
  },
  {
   "cell_type": "code",
   "execution_count": 5,
   "metadata": {},
   "outputs": [],
   "source": [
    "@dlt.table(\n",
    "    comment=\"Golde layer: daily aggregate of the ride durations and trip counts for Citi Bike data\"\n",
    ")\n",
    "def gold_daily_ride_summary():\n",
    "    df = (\n",
    "        dlt.read(\"silver_jc_citibike\")\n",
    "        .groupBy(\"trip_start_date\")\n",
    "        .agg(\n",
    "            round(max(\"trip_duration_mins\"), 2).alias(\"max_trip_duration_mins\"),\n",
    "            round(min(\"trip_duration_mins\"), 2).alias(\"min_trip_duration_mins\"),\n",
    "            round(avg(\"trip_duration_mins\"), 2).alias(\"avg_trip_duration_mins\"),\n",
    "            count(\"ride_id\").alias(\"total_trips\"),\n",
    "        )\n",
    "    )\n",
    "    return df"
   ]
  }
 ],
 "metadata": {
  "kernelspec": {
   "display_name": "databricks",
   "language": "python",
   "name": "python3"
  },
  "language_info": {
   "codemirror_mode": {
    "name": "ipython",
    "version": 3
   },
   "file_extension": ".py",
   "mimetype": "text/x-python",
   "name": "python",
   "nbconvert_exporter": "python",
   "pygments_lexer": "ipython3",
   "version": "3.12.3"
  },
  "orig_nbformat": 4
 },
 "nbformat": 4,
 "nbformat_minor": 2
}
