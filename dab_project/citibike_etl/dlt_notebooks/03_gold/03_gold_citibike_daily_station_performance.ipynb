{
 "cells": [
  {
   "cell_type": "code",
   "execution_count": 1,
   "metadata": {},
   "outputs": [],
   "source": [
    "from pyspark.sql.functions import avg, count, round\n",
    "import dlt"
   ]
  },
  {
   "cell_type": "code",
   "execution_count": null,
   "metadata": {},
   "outputs": [],
   "source": [
    "@dlt.table(\n",
    "    comment=\"Gold layer: daily ride performance metrics per station, including average duration and total trips\"\n",
    ")\n",
    "def gold_daily_station_performance():\n",
    "    df = (\n",
    "        dlt.read(\"silver_jc_citibike\").\\\n",
    "            groupBy(\"trip_start_date\", \"start_station_name\").\\\n",
    "                agg(\n",
    "                    round(avg(\"trip_duration_mins\"), 2).alias(\"avg_trip_duration_mins\"),\n",
    "                    count(\"ride_id\").alias(\"total_trips\")\n",
    "                )\n",
    "    )\n",
    "    return df"
   ]
  }
 ],
 "metadata": {
  "kernelspec": {
   "display_name": "databricks",
   "language": "python",
   "name": "python3"
  },
  "language_info": {
   "codemirror_mode": {
    "name": "ipython",
    "version": 3
   },
   "file_extension": ".py",
   "mimetype": "text/x-python",
   "name": "python",
   "nbconvert_exporter": "python",
   "pygments_lexer": "ipython3",
   "version": "3.12.3"
  },
  "orig_nbformat": 4
 },
 "nbformat": 4,
 "nbformat_minor": 2
}
